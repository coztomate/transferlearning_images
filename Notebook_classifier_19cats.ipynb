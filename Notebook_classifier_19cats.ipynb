{
  "cells": [
    {
      "cell_type": "markdown",
      "metadata": {
        "id": "h7RLucVUwjNj"
      },
      "source": [
        "# Cat Breed Classifier"
      ]
    },
    {
      "cell_type": "code",
      "source": [
        "!pip install --upgrade wandb"
      ],
      "metadata": {
        "id": "jfJoas7B_j77"
      },
      "execution_count": null,
      "outputs": []
    },
    {
      "cell_type": "markdown",
      "source": [
        "# Initiating Weights&Biases"
      ],
      "metadata": {
        "id": "xnY9Gy_-iAtE"
      }
    },
    {
      "cell_type": "code",
      "source": [
        "import wandb\n",
        "from wandb.keras import WandbMetricsLogger, WandbModelCheckpoint"
      ],
      "metadata": {
        "id": "JN_DQyGa_oQp"
      },
      "execution_count": 2,
      "outputs": []
    },
    {
      "cell_type": "code",
      "source": [
        "wandb.login()"
      ],
      "metadata": {
        "id": "Ed0YJwN1AA37"
      },
      "execution_count": null,
      "outputs": []
    },
    {
      "cell_type": "code",
      "source": [
        "configs={\n",
        "        \"layer_1\": 256,\n",
        "        \"activation_1\": \"relu\",\n",
        "        \"layer_2\": 128,\n",
        "        \"activation_2\": \"relu\",\n",
        "        \"dropout1\": 0.5,\n",
        "        \"dropout2\": 0.4,\n",
        "        \"layer_3\": 19,\n",
        "        \"activation_3\": \"softmax\",\n",
        "        \"regularization\": 0.002,\n",
        "        \"optimizer\": \"RMSprop\",\n",
        "        \"loss\": \"sparse_categorical_crossentropy\",\n",
        "        \"metric\": \"accuracy\",\n",
        "        \"epoch\": 100,\n",
        "        \"batch_size\": 64\n",
        "    }"
      ],
      "metadata": {
        "id": "E5sAG7VE5k7B"
      },
      "execution_count": 4,
      "outputs": []
    },
    {
      "cell_type": "code",
      "source": [
        "# Start a run, tracking hyperparameters\n",
        "wandb.init(\n",
        "    project=\"catbreed_classifier_19\",\n",
        "    config=configs,\n",
        "    reinit=True\n",
        ")\n",
        "\n",
        "# [optional] use wandb.config as your config\n",
        "config = wandb.config"
      ],
      "metadata": {
        "id": "7LodDCQCAHg6"
      },
      "execution_count": null,
      "outputs": []
    },
    {
      "cell_type": "markdown",
      "source": [
        "## Connecting to Drive\n"
      ],
      "metadata": {
        "id": "rDFWcWC9_qL6"
      }
    },
    {
      "cell_type": "code",
      "source": [
        "#assessing files from drive\n",
        "from google.colab import drive\n",
        "drive.mount('/content/drive')"
      ],
      "metadata": {
        "id": "2rUBOx2xmO-A",
        "colab": {
          "base_uri": "https://localhost:8080/"
        },
        "outputId": "b5b38c32-fc0a-41a5-a627-cecd44ffc76e"
      },
      "execution_count": 6,
      "outputs": [
        {
          "output_type": "stream",
          "name": "stdout",
          "text": [
            "Mounted at /content/drive\n"
          ]
        }
      ]
    },
    {
      "cell_type": "code",
      "source": [
        "#!ls \"/content/drive/My Drive/catbreedclassifier/images_cats/\""
      ],
      "metadata": {
        "id": "fLtx7k5xxSqH"
      },
      "execution_count": null,
      "outputs": []
    },
    {
      "cell_type": "markdown",
      "source": [
        "## Count my images"
      ],
      "metadata": {
        "id": "0Kinp_HRWsQ7"
      }
    },
    {
      "cell_type": "code",
      "source": [
        "import os\n",
        "\n",
        "source_dir = \"/content/drive/My Drive/catbreedclassifier/images_cats\"\n",
        "\n",
        "# Initialize a dictionary to hold the count of images in each subfolder\n",
        "image_counts = {}\n",
        "\n",
        "# Initialize a variable to hold the total count\n",
        "total_images = 0\n",
        "\n",
        "# Iterate over each subfolder\n",
        "for breed_folder in os.listdir(source_dir):\n",
        "    breed_path = os.path.join(source_dir, breed_folder)\n",
        "    if os.path.isdir(breed_path):\n",
        "        # Count the number of files in the subfolder\n",
        "        num_images = len([name for name in os.listdir(breed_path) if os.path.isfile(os.path.join(breed_path, name))])\n",
        "        image_counts[breed_folder] = num_images\n",
        "        total_images += num_images\n",
        "\n",
        "# Print the count for each subfolder\n",
        "for breed, count in image_counts.items():\n",
        "    print(f\"{breed}: {count} images\")\n",
        "\n",
        "# Print the total count\n",
        "print(f\"Total images: {total_images}\")\n"
      ],
      "metadata": {
        "id": "az77d2PGp4Sb"
      },
      "execution_count": null,
      "outputs": []
    },
    {
      "cell_type": "markdown",
      "metadata": {
        "id": "JQWaa65swjNn"
      },
      "source": [
        "## Preparing the Images"
      ]
    },
    {
      "cell_type": "markdown",
      "metadata": {
        "id": "k3oVfIx_wjNn"
      },
      "source": [
        "In order for the images to be ready to be used in the models, we have to put them through a pre-processing phase. This includes reshaping them to (224, 224, 3) tensors as it is the recommended shape for the MobileNetV2 model input."
      ]
    },
    {
      "cell_type": "code",
      "execution_count": 7,
      "metadata": {
        "id": "onLW6NCAwjNn"
      },
      "outputs": [],
      "source": [
        "from PIL import Image, ImageOps\n",
        "import numpy as np\n",
        "import os\n",
        "from tensorflow.keras.applications import mobilenet_v2\n",
        "\n",
        "#oads an image from a given path, converts it to RGB,\n",
        "#resizes or pads it to a specified size (default 224x224 for MobileNetV2),\n",
        "#and then applies MobileNetV2-specific preprocessing\n",
        "def load_and_preprocess_image(file_path, desired_size=224):\n",
        "    with Image.open(file_path) as img:\n",
        "        img = img.convert('RGB')  # Convert to RGB if not already\n",
        "        # Check if image needs padding\n",
        "        if img.size[0] < desired_size or img.size[1] < desired_size:\n",
        "            img = pad_image(img, desired_size)\n",
        "        else:\n",
        "            img = img.resize((desired_size, desired_size), Image.Resampling.LANCZOS)\n",
        "\n",
        "        img = np.array(img)\n",
        "        img = mobilenet_v2.preprocess_input(img)  # Preprocess for MobileNetV2, scale input pixels between -1 and 1\n",
        "        return img\n",
        "\n",
        "#helper function used by load_and_preprocess_image to add padding to images\n",
        "#that are smaller than the desired size\n",
        "def pad_image(image, desired_size):\n",
        "    old_size = image.size  # old_size is in (width, height) format\n",
        "    delta_w = desired_size - old_size[0]\n",
        "    delta_h = desired_size - old_size[1]\n",
        "    padding = (delta_w // 2, delta_h // 2, delta_w - (delta_w // 2), delta_h - (delta_h // 2))\n",
        "    return ImageOps.expand(image, padding)\n"
      ]
    },
    {
      "cell_type": "markdown",
      "source": [
        "#Data Augmentation"
      ],
      "metadata": {
        "id": "HYjP4icOvKKc"
      }
    },
    {
      "cell_type": "code",
      "source": [
        "# data augmentation (not used)\n",
        "def augment_image(image):\n",
        "    data_augmentation = tf.keras.Sequential([\n",
        "        tf.keras.layers.RandomFlip(\"horizontal\"),  # Random horizontal flip\n",
        "        #tf.keras.layers.RandomBrightness(0.3),  # Random brightness adjustment\n",
        "        #tf.keras.layers.RandomContrast((0.8, 1.2)),  # Random contrast adjustment\n",
        "        # tf.keras.layers.RandomZoom(height_factor=(-0.2, 0.2), width_factor=(-0.2, 0.2)),  # Random zoom\n",
        "    ])\n",
        "    # Add a batch dimension, apply augmentation, and then remove the batch dimension\n",
        "    image = tf.expand_dims(image, 0)  # Add the batch dimension\n",
        "    image = data_augmentation(image)  # Apply the augmentation\n",
        "    image = tf.squeeze(image, 0)  # Remove the batch dimension\n",
        "    return image"
      ],
      "metadata": {
        "id": "m3s06yU6vM-w"
      },
      "execution_count": 8,
      "outputs": []
    },
    {
      "cell_type": "markdown",
      "source": [
        "## Custom Data Generator"
      ],
      "metadata": {
        "id": "0Et7DMQUQn1_"
      }
    },
    {
      "cell_type": "code",
      "source": [
        "import numpy as np\n",
        "\n",
        "#This generator function is designed to yield batches of preprocessed images and their corresponding labels.\n",
        "#It shuffles the file paths and labels at the start of each epoch, then iterates over the dataset in batches,\n",
        "#loading and preprocessing each image in the batch.\n",
        "def image_generator(file_paths, labels, batch_size, augment=False):\n",
        "    while True:  # Loop forever so the generator never terminates\n",
        "        # Shuffle file paths and labels at the beginning of each epoch\n",
        "        indices = np.arange(len(file_paths))\n",
        "        np.random.shuffle(indices)\n",
        "        file_paths = np.array(file_paths)[indices]\n",
        "        labels = np.array(labels)[indices]\n",
        "\n",
        "        for i in range(0, len(file_paths), batch_size):\n",
        "            batch_paths = file_paths[i:i + batch_size]\n",
        "            batch_labels = labels[i:i + batch_size]\n",
        "\n",
        "            images = []\n",
        "            for path in batch_paths:\n",
        "                # Load each image\n",
        "                img = load_and_preprocess_image(path)\n",
        "                # Apply augmentation if augment is True\n",
        "                if augment:\n",
        "                    img = augment_image(img)\n",
        "                images.append(img)\n",
        "\n",
        "            yield np.array(images), np.array(batch_labels)\n",
        "\n"
      ],
      "metadata": {
        "id": "UWfMisBwQnK6"
      },
      "execution_count": 8,
      "outputs": []
    },
    {
      "cell_type": "markdown",
      "source": [
        "## Prepare File Paths and Labels\n",
        "\n",
        "https://www.forbes.com/advisor/pet-insurance/pet-care/popular-cat-breeds"
      ],
      "metadata": {
        "id": "DWJX1cotQvI-"
      }
    },
    {
      "cell_type": "code",
      "source": [
        "import os\n",
        "from sklearn.model_selection import train_test_split\n",
        "from sklearn.preprocessing import LabelEncoder\n",
        "\n",
        "source_dir = \"/content/drive/My Drive/catbreedclassifier/images_cats\"\n",
        "\n",
        "# Define the 10 specific subfolders you want to include\n",
        "specific_subfolders = ['Ragdoll', 'Maine Coon', 'Exotic Shorthair',\n",
        "                       'Persian', 'Devon Rex',\n",
        "                       'British Shorthair', 'Oriental Shorthair', 'Siamese', 'Cornish Rex',\n",
        "                       'Abyssinian', 'American Shorthair', 'Scottish Fold', 'Sphynx', 'Norwegian Forest',\n",
        "                       'Siberian cat', 'Sacred Birman', 'Russian Blue', 'Bengal', 'Selkirk Rex longhair']\n",
        "\n",
        "# Generate file paths and labels\n",
        "file_paths = []\n",
        "labels = []\n",
        "\n",
        "for breed_folder in specific_subfolders:\n",
        "    breed_path = os.path.join(source_dir, breed_folder)\n",
        "    all_files = os.listdir(breed_path)\n",
        "    all_files.sort()  # Sort the files to maintain consistency\n",
        "    selected_files = all_files[:150]  # Select only the first 100 files\n",
        "\n",
        "    for filename in selected_files:\n",
        "        file_path = os.path.join(breed_path, filename)\n",
        "        file_paths.append(file_path)\n",
        "        labels.append(breed_folder)\n",
        "\n",
        "# Encode labels\n",
        "le = LabelEncoder()\n",
        "le.fit(labels)\n",
        "encoded_labels = le.transform(labels)\n",
        "\n",
        "# Split file paths and labels into training and validation sets\n",
        "X_train, X_val, y_train, y_val = train_test_split(\n",
        "    file_paths, encoded_labels, test_size=0.2, random_state=42, stratify=encoded_labels)\n"
      ],
      "metadata": {
        "id": "pMfuSK5MQujG"
      },
      "execution_count": 9,
      "outputs": []
    },
    {
      "cell_type": "code",
      "source": [
        "np.unique(y_train)"
      ],
      "metadata": {
        "colab": {
          "base_uri": "https://localhost:8080/"
        },
        "id": "fKzzm1GjcSJG",
        "outputId": "1e60a3f3-bcbf-4b68-f5b2-d913445d0071"
      },
      "execution_count": 12,
      "outputs": [
        {
          "output_type": "execute_result",
          "data": {
            "text/plain": [
              "array([ 0,  1,  2,  3,  4,  5,  6,  7,  8,  9, 10, 11, 12, 13, 14, 15, 16,\n",
              "       17, 18])"
            ]
          },
          "metadata": {},
          "execution_count": 12
        }
      ]
    },
    {
      "cell_type": "markdown",
      "source": [
        "## Define and Compile the Model"
      ],
      "metadata": {
        "id": "1cOF7NKuRgwp"
      }
    },
    {
      "cell_type": "code",
      "source": [
        "from tensorflow.keras.callbacks import EarlyStopping\n",
        "from tensorflow.keras.callbacks import ReduceLROnPlateau\n",
        "\n",
        "# Define ReduceLROnPlateau callback\n",
        "reduce_lr = ReduceLROnPlateau(\n",
        "    monitor='val_loss',  # Metric to be monitored\n",
        "    factor=0.1,          # Factor by which the learning rate will be reduced. new_lr = lr * factor\n",
        "    patience=5           # Number of epochs with no improvement after which learning rate will be reduced.\n",
        ")\n",
        "\n",
        "# Define EarlyStopping callback\n",
        "early_stopping = EarlyStopping(\n",
        "    monitor='val_loss',  # Monitor the validation loss\n",
        "    patience=10,         # Number of epochs with no improvement after which training will be stopped\n",
        "    restore_best_weights=True  # Restores model weights from the epoch with the best value of the monitored quantity\n",
        ")\n",
        "\n"
      ],
      "metadata": {
        "id": "XfUL2v1y2t5h"
      },
      "execution_count": 10,
      "outputs": []
    },
    {
      "cell_type": "code",
      "source": [
        "import tensorflow as tf\n",
        "from tensorflow.keras import models, layers, regularizers\n",
        "\n",
        "tf.keras.backend.clear_session()\n",
        "\n",
        "# loading pretrained model\n",
        "base_net = tf.keras.applications.MobileNetV2(\n",
        "    input_shape=(224, 224, 3),\n",
        "    alpha=1.0,\n",
        "    include_top=False,\n",
        "    weights=\"imagenet\",\n",
        "    pooling='max'\n",
        ")\n",
        "\n",
        "base_net.trainable = False\n",
        "\n",
        "# build a model\n",
        "model = models.Sequential([\n",
        "    base_net,\n",
        "    layers.Flatten(),\n",
        "    layers.Dense(config.layer_1, activation=config.activation_1, kernel_regularizer=regularizers.L2(config.regularization)),\n",
        "    layers.Dropout(config.dropout1),\n",
        "    layers.Dense(config.layer_2, activation=config.activation_2, kernel_regularizer=regularizers.L2(config.regularization)),\n",
        "    layers.Dropout(config.dropout2),\n",
        "    layers.Dense(config.layer_3, activation=config.activation_3)\n",
        "])\n",
        "\n",
        "model.summary()\n",
        "\n",
        "model.compile(optimizer=config.optimizer,\n",
        "              loss=config.loss,\n",
        "              metrics=[config.metric]\n",
        "              )\n",
        "\n",
        "\n"
      ],
      "metadata": {
        "colab": {
          "base_uri": "https://localhost:8080/"
        },
        "id": "M-cARUfLRf_g",
        "outputId": "2046a97d-1802-4438-a2cf-49820190a239"
      },
      "execution_count": 11,
      "outputs": [
        {
          "output_type": "stream",
          "name": "stdout",
          "text": [
            "Downloading data from https://storage.googleapis.com/tensorflow/keras-applications/mobilenet_v2/mobilenet_v2_weights_tf_dim_ordering_tf_kernels_1.0_224_no_top.h5\n",
            "9406464/9406464 [==============================] - 0s 0us/step\n",
            "Model: \"sequential\"\n",
            "_________________________________________________________________\n",
            " Layer (type)                Output Shape              Param #   \n",
            "=================================================================\n",
            " mobilenetv2_1.00_224 (Func  (None, 1280)              2257984   \n",
            " tional)                                                         \n",
            "                                                                 \n",
            " flatten (Flatten)           (None, 1280)              0         \n",
            "                                                                 \n",
            " dense (Dense)               (None, 256)               327936    \n",
            "                                                                 \n",
            " dropout (Dropout)           (None, 256)               0         \n",
            "                                                                 \n",
            " dense_1 (Dense)             (None, 128)               32896     \n",
            "                                                                 \n",
            " dropout_1 (Dropout)         (None, 128)               0         \n",
            "                                                                 \n",
            " dense_2 (Dense)             (None, 19)                2451      \n",
            "                                                                 \n",
            "=================================================================\n",
            "Total params: 2621267 (10.00 MB)\n",
            "Trainable params: 363283 (1.39 MB)\n",
            "Non-trainable params: 2257984 (8.61 MB)\n",
            "_________________________________________________________________\n"
          ]
        }
      ]
    },
    {
      "cell_type": "markdown",
      "source": [
        "## Create Datasets and Train Model"
      ],
      "metadata": {
        "id": "Y6pLlT53Qzfk"
      }
    },
    {
      "cell_type": "code",
      "source": [
        "from tensorflow.keras.callbacks import ModelCheckpoint\n",
        "from wandb.keras import WandbCallback\n",
        "\n",
        "batch_size = config.batch_size\n",
        "\n",
        "train_gen = image_generator(X_train, y_train, batch_size, augment=False)\n",
        "val_gen = image_generator(X_val, y_val, batch_size)\n",
        "\n",
        "steps_per_epoch = len(X_train) // batch_size\n",
        "validation_steps = len(X_val) // batch_size\n",
        "\n",
        "# Define a ModelCheckpoint callback with SavedModel format\n",
        "checkpoint_path = \"models/checkpoint-{epoch:02d}\"\n",
        "checkpoint = ModelCheckpoint(checkpoint_path, save_weights_only=True, save_format='tf', verbose=1)\n",
        "\n",
        "history = model.fit(\n",
        "    train_gen,\n",
        "    epochs=config.epoch,\n",
        "    steps_per_epoch=steps_per_epoch,\n",
        "    validation_data=val_gen,\n",
        "    validation_steps=validation_steps,\n",
        "    callbacks=[\n",
        "        WandbCallback(),  # Automatically logs metrics and uploads model checkpoints\n",
        "        checkpoint,       # Saves model checkpoints locally\n",
        "        early_stopping,   # Early stopping to prevent overfitting\n",
        "        reduce_lr         # Reduce learning rate when a metric has stopped improving\n",
        "    ]\n",
        ")\n",
        "\n",
        "# [optional] finish the wandb run, necessary in notebooks\n",
        "wandb.finish()\n",
        "\n"
      ],
      "metadata": {
        "colab": {
          "base_uri": "https://localhost:8080/",
          "height": 1000,
          "referenced_widgets": [
            "15fddb8d01cd41b993688a7bbd4eb6be",
            "a16c6e74747349509af94d0bcaacb644",
            "41319deb0ce94957a499d933ff9a36e0",
            "bbd18d2d182d4c678a60dd04c15842f6",
            "b6bf64cffcdb4dc0aa156422e3326c7e",
            "0797fede9c9043d89d013dd8023098d0",
            "57b7e36e9f924bf48dd7ddb55bb5b617",
            "f3ee088cb49146acba83f08d4c523d62"
          ]
        },
        "id": "V7MLmrK5QzRc",
        "outputId": "0bebe34e-1ed6-4c97-abe9-0657606ffeb7"
      },
      "execution_count": 12,
      "outputs": [
        {
          "output_type": "stream",
          "name": "stderr",
          "text": [
            "\u001b[34m\u001b[1mwandb\u001b[0m: \u001b[33mWARNING\u001b[0m The save_model argument by default saves the model in the HDF5 format that cannot save custom objects like subclassed models and custom layers. This behavior will be deprecated in a future release in favor of the SavedModel format. Meanwhile, the HDF5 model is saved as W&B files and the SavedModel as W&B Artifacts.\n"
          ]
        },
        {
          "output_type": "stream",
          "name": "stdout",
          "text": [
            "Epoch 1/100\n",
            "35/35 [==============================] - ETA: 0s - loss: 4.9965 - accuracy: 0.1147 "
          ]
        },
        {
          "output_type": "stream",
          "name": "stderr",
          "text": [
            "/usr/local/lib/python3.10/dist-packages/keras/src/engine/training.py:3103: UserWarning: You are saving your model as an HDF5 file via `model.save()`. This file format is considered legacy. We recommend using instead the native Keras format, e.g. `model.save('my_model.keras')`.\n",
            "  saving_api.save_model(\n",
            "WARNING:absl:`mobilenetv2_1.00_224_input` is not a valid tf.function parameter name. Sanitizing to `mobilenetv2_1_00_224_input`.\n",
            "WARNING:absl:`mobilenetv2_1.00_224_input` is not a valid tf.function parameter name. Sanitizing to `mobilenetv2_1_00_224_input`.\n",
            "WARNING:absl:`mobilenetv2_1.00_224_input` is not a valid tf.function parameter name. Sanitizing to `mobilenetv2_1_00_224_input`.\n",
            "\u001b[34m\u001b[1mwandb\u001b[0m: Adding directory to artifact (/content/wandb/run-20231223_151734-rqfjwz0e/files/model-best)... Done. 0.1s\n"
          ]
        },
        {
          "output_type": "stream",
          "name": "stdout",
          "text": [
            "\n",
            "Epoch 1: saving model to models/checkpoint-01\n",
            "35/35 [==============================] - 531s 15s/step - loss: 4.9965 - accuracy: 0.1147 - val_loss: 3.7356 - val_accuracy: 0.2188 - lr: 0.0010\n",
            "Epoch 2/100\n",
            "35/35 [==============================] - ETA: 0s - loss: 3.6742 - accuracy: 0.1963"
          ]
        },
        {
          "output_type": "stream",
          "name": "stderr",
          "text": [
            "/usr/local/lib/python3.10/dist-packages/keras/src/engine/training.py:3103: UserWarning: You are saving your model as an HDF5 file via `model.save()`. This file format is considered legacy. We recommend using instead the native Keras format, e.g. `model.save('my_model.keras')`.\n",
            "  saving_api.save_model(\n",
            "WARNING:absl:`mobilenetv2_1.00_224_input` is not a valid tf.function parameter name. Sanitizing to `mobilenetv2_1_00_224_input`.\n",
            "WARNING:absl:`mobilenetv2_1.00_224_input` is not a valid tf.function parameter name. Sanitizing to `mobilenetv2_1_00_224_input`.\n",
            "\u001b[34m\u001b[1mwandb\u001b[0m: Adding directory to artifact (/content/wandb/run-20231223_151734-rqfjwz0e/files/model-best)... Done. 0.1s\n"
          ]
        },
        {
          "output_type": "stream",
          "name": "stdout",
          "text": [
            "\n",
            "Epoch 2: saving model to models/checkpoint-02\n",
            "35/35 [==============================] - 46s 1s/step - loss: 3.6742 - accuracy: 0.1963 - val_loss: 3.1138 - val_accuracy: 0.3242 - lr: 0.0010\n",
            "Epoch 3/100\n",
            "35/35 [==============================] - ETA: 0s - loss: 3.2262 - accuracy: 0.2671"
          ]
        },
        {
          "output_type": "stream",
          "name": "stderr",
          "text": [
            "/usr/local/lib/python3.10/dist-packages/keras/src/engine/training.py:3103: UserWarning: You are saving your model as an HDF5 file via `model.save()`. This file format is considered legacy. We recommend using instead the native Keras format, e.g. `model.save('my_model.keras')`.\n",
            "  saving_api.save_model(\n",
            "\u001b[34m\u001b[1mwandb\u001b[0m: Adding directory to artifact (/content/wandb/run-20231223_151734-rqfjwz0e/files/model-best)... Done. 0.1s\n"
          ]
        },
        {
          "output_type": "stream",
          "name": "stdout",
          "text": [
            "\n",
            "Epoch 3: saving model to models/checkpoint-03\n",
            "35/35 [==============================] - 47s 1s/step - loss: 3.2262 - accuracy: 0.2671 - val_loss: 2.4426 - val_accuracy: 0.4805 - lr: 0.0010\n",
            "Epoch 4/100\n",
            "35/35 [==============================] - ETA: 0s - loss: 2.6684 - accuracy: 0.3642"
          ]
        },
        {
          "output_type": "stream",
          "name": "stderr",
          "text": [
            "/usr/local/lib/python3.10/dist-packages/keras/src/engine/training.py:3103: UserWarning: You are saving your model as an HDF5 file via `model.save()`. This file format is considered legacy. We recommend using instead the native Keras format, e.g. `model.save('my_model.keras')`.\n",
            "  saving_api.save_model(\n",
            "\u001b[34m\u001b[1mwandb\u001b[0m: Adding directory to artifact (/content/wandb/run-20231223_151734-rqfjwz0e/files/model-best)... Done. 0.1s\n"
          ]
        },
        {
          "output_type": "stream",
          "name": "stdout",
          "text": [
            "\n",
            "Epoch 4: saving model to models/checkpoint-04\n",
            "35/35 [==============================] - 51s 1s/step - loss: 2.6684 - accuracy: 0.3642 - val_loss: 2.0137 - val_accuracy: 0.5469 - lr: 0.0010\n",
            "Epoch 5/100\n",
            "35/35 [==============================] - ETA: 0s - loss: 2.2846 - accuracy: 0.4106"
          ]
        },
        {
          "output_type": "stream",
          "name": "stderr",
          "text": [
            "/usr/local/lib/python3.10/dist-packages/keras/src/engine/training.py:3103: UserWarning: You are saving your model as an HDF5 file via `model.save()`. This file format is considered legacy. We recommend using instead the native Keras format, e.g. `model.save('my_model.keras')`.\n",
            "  saving_api.save_model(\n",
            "\u001b[34m\u001b[1mwandb\u001b[0m: Adding directory to artifact (/content/wandb/run-20231223_151734-rqfjwz0e/files/model-best)... Done. 0.1s\n"
          ]
        },
        {
          "output_type": "stream",
          "name": "stdout",
          "text": [
            "\n",
            "Epoch 5: saving model to models/checkpoint-05\n",
            "35/35 [==============================] - 47s 1s/step - loss: 2.2846 - accuracy: 0.4106 - val_loss: 1.7733 - val_accuracy: 0.6016 - lr: 0.0010\n",
            "Epoch 6/100\n",
            "35/35 [==============================] - ETA: 0s - loss: 2.0962 - accuracy: 0.4594"
          ]
        },
        {
          "output_type": "stream",
          "name": "stderr",
          "text": [
            "/usr/local/lib/python3.10/dist-packages/keras/src/engine/training.py:3103: UserWarning: You are saving your model as an HDF5 file via `model.save()`. This file format is considered legacy. We recommend using instead the native Keras format, e.g. `model.save('my_model.keras')`.\n",
            "  saving_api.save_model(\n",
            "\u001b[34m\u001b[1mwandb\u001b[0m: Adding directory to artifact (/content/wandb/run-20231223_151734-rqfjwz0e/files/model-best)... Done. 0.1s\n"
          ]
        },
        {
          "output_type": "stream",
          "name": "stdout",
          "text": [
            "\n",
            "Epoch 6: saving model to models/checkpoint-06\n",
            "35/35 [==============================] - 41s 1s/step - loss: 2.0962 - accuracy: 0.4594 - val_loss: 1.5912 - val_accuracy: 0.6191 - lr: 0.0010\n",
            "Epoch 7/100\n",
            "35/35 [==============================] - ETA: 0s - loss: 1.9015 - accuracy: 0.4955"
          ]
        },
        {
          "output_type": "stream",
          "name": "stderr",
          "text": [
            "/usr/local/lib/python3.10/dist-packages/keras/src/engine/training.py:3103: UserWarning: You are saving your model as an HDF5 file via `model.save()`. This file format is considered legacy. We recommend using instead the native Keras format, e.g. `model.save('my_model.keras')`.\n",
            "  saving_api.save_model(\n",
            "\u001b[34m\u001b[1mwandb\u001b[0m: Adding directory to artifact (/content/wandb/run-20231223_151734-rqfjwz0e/files/model-best)... Done. 0.1s\n"
          ]
        },
        {
          "output_type": "stream",
          "name": "stdout",
          "text": [
            "\n",
            "Epoch 7: saving model to models/checkpoint-07\n",
            "35/35 [==============================] - 44s 1s/step - loss: 1.9015 - accuracy: 0.4955 - val_loss: 1.4409 - val_accuracy: 0.6543 - lr: 0.0010\n",
            "Epoch 8/100\n",
            "35/35 [==============================] - ETA: 0s - loss: 1.7723 - accuracy: 0.5316\n",
            "Epoch 8: saving model to models/checkpoint-08\n",
            "35/35 [==============================] - 14s 409ms/step - loss: 1.7723 - accuracy: 0.5316 - val_loss: 1.4418 - val_accuracy: 0.6348 - lr: 0.0010\n",
            "Epoch 9/100\n",
            "35/35 [==============================] - ETA: 0s - loss: 1.6357 - accuracy: 0.5587"
          ]
        },
        {
          "output_type": "stream",
          "name": "stderr",
          "text": [
            "/usr/local/lib/python3.10/dist-packages/keras/src/engine/training.py:3103: UserWarning: You are saving your model as an HDF5 file via `model.save()`. This file format is considered legacy. We recommend using instead the native Keras format, e.g. `model.save('my_model.keras')`.\n",
            "  saving_api.save_model(\n",
            "\u001b[34m\u001b[1mwandb\u001b[0m: Adding directory to artifact (/content/wandb/run-20231223_151734-rqfjwz0e/files/model-best)... Done. 0.1s\n"
          ]
        },
        {
          "output_type": "stream",
          "name": "stdout",
          "text": [
            "\n",
            "Epoch 9: saving model to models/checkpoint-09\n",
            "35/35 [==============================] - 51s 1s/step - loss: 1.6357 - accuracy: 0.5587 - val_loss: 1.2550 - val_accuracy: 0.6738 - lr: 0.0010\n",
            "Epoch 10/100\n",
            "35/35 [==============================] - ETA: 0s - loss: 1.5190 - accuracy: 0.5871"
          ]
        },
        {
          "output_type": "stream",
          "name": "stderr",
          "text": [
            "/usr/local/lib/python3.10/dist-packages/keras/src/engine/training.py:3103: UserWarning: You are saving your model as an HDF5 file via `model.save()`. This file format is considered legacy. We recommend using instead the native Keras format, e.g. `model.save('my_model.keras')`.\n",
            "  saving_api.save_model(\n",
            "\u001b[34m\u001b[1mwandb\u001b[0m: Adding directory to artifact (/content/wandb/run-20231223_151734-rqfjwz0e/files/model-best)... Done. 0.2s\n"
          ]
        },
        {
          "output_type": "stream",
          "name": "stdout",
          "text": [
            "\n",
            "Epoch 10: saving model to models/checkpoint-10\n",
            "35/35 [==============================] - 42s 1s/step - loss: 1.5190 - accuracy: 0.5871 - val_loss: 1.2402 - val_accuracy: 0.6855 - lr: 0.0010\n",
            "Epoch 11/100\n",
            "35/35 [==============================] - ETA: 0s - loss: 1.5054 - accuracy: 0.5907"
          ]
        },
        {
          "output_type": "stream",
          "name": "stderr",
          "text": [
            "/usr/local/lib/python3.10/dist-packages/keras/src/engine/training.py:3103: UserWarning: You are saving your model as an HDF5 file via `model.save()`. This file format is considered legacy. We recommend using instead the native Keras format, e.g. `model.save('my_model.keras')`.\n",
            "  saving_api.save_model(\n",
            "\u001b[34m\u001b[1mwandb\u001b[0m: Adding directory to artifact (/content/wandb/run-20231223_151734-rqfjwz0e/files/model-best)... Done. 0.1s\n"
          ]
        },
        {
          "output_type": "stream",
          "name": "stdout",
          "text": [
            "\n",
            "Epoch 11: saving model to models/checkpoint-11\n",
            "35/35 [==============================] - 45s 1s/step - loss: 1.5054 - accuracy: 0.5907 - val_loss: 1.1713 - val_accuracy: 0.7070 - lr: 0.0010\n",
            "Epoch 12/100\n",
            "35/35 [==============================] - ETA: 0s - loss: 1.3822 - accuracy: 0.6273"
          ]
        },
        {
          "output_type": "stream",
          "name": "stderr",
          "text": [
            "/usr/local/lib/python3.10/dist-packages/keras/src/engine/training.py:3103: UserWarning: You are saving your model as an HDF5 file via `model.save()`. This file format is considered legacy. We recommend using instead the native Keras format, e.g. `model.save('my_model.keras')`.\n",
            "  saving_api.save_model(\n",
            "\u001b[34m\u001b[1mwandb\u001b[0m: Adding directory to artifact (/content/wandb/run-20231223_151734-rqfjwz0e/files/model-best)... Done. 0.1s\n"
          ]
        },
        {
          "output_type": "stream",
          "name": "stdout",
          "text": [
            "\n",
            "Epoch 12: saving model to models/checkpoint-12\n",
            "35/35 [==============================] - 40s 1s/step - loss: 1.3822 - accuracy: 0.6273 - val_loss: 1.1447 - val_accuracy: 0.6914 - lr: 0.0010\n",
            "Epoch 13/100\n",
            "35/35 [==============================] - ETA: 0s - loss: 1.3292 - accuracy: 0.6403"
          ]
        },
        {
          "output_type": "stream",
          "name": "stderr",
          "text": [
            "/usr/local/lib/python3.10/dist-packages/keras/src/engine/training.py:3103: UserWarning: You are saving your model as an HDF5 file via `model.save()`. This file format is considered legacy. We recommend using instead the native Keras format, e.g. `model.save('my_model.keras')`.\n",
            "  saving_api.save_model(\n",
            "\u001b[34m\u001b[1mwandb\u001b[0m: Adding directory to artifact (/content/wandb/run-20231223_151734-rqfjwz0e/files/model-best)... Done. 0.1s\n"
          ]
        },
        {
          "output_type": "stream",
          "name": "stdout",
          "text": [
            "\n",
            "Epoch 13: saving model to models/checkpoint-13\n",
            "35/35 [==============================] - 48s 1s/step - loss: 1.3292 - accuracy: 0.6403 - val_loss: 1.0960 - val_accuracy: 0.7051 - lr: 0.0010\n",
            "Epoch 14/100\n",
            "35/35 [==============================] - ETA: 0s - loss: 1.2761 - accuracy: 0.6638\n",
            "Epoch 14: saving model to models/checkpoint-14\n",
            "35/35 [==============================] - 14s 401ms/step - loss: 1.2761 - accuracy: 0.6638 - val_loss: 1.1297 - val_accuracy: 0.7207 - lr: 0.0010\n",
            "Epoch 15/100\n",
            "35/35 [==============================] - ETA: 0s - loss: 1.2267 - accuracy: 0.6737\n",
            "Epoch 15: saving model to models/checkpoint-15\n",
            "35/35 [==============================] - 25s 738ms/step - loss: 1.2267 - accuracy: 0.6737 - val_loss: 1.1246 - val_accuracy: 0.7129 - lr: 0.0010\n",
            "Epoch 16/100\n",
            "35/35 [==============================] - ETA: 0s - loss: 1.2080 - accuracy: 0.6764\n",
            "Epoch 16: saving model to models/checkpoint-16\n",
            "35/35 [==============================] - 23s 687ms/step - loss: 1.2080 - accuracy: 0.6764 - val_loss: 1.1226 - val_accuracy: 0.7168 - lr: 0.0010\n",
            "Epoch 17/100\n",
            "35/35 [==============================] - ETA: 0s - loss: 1.1533 - accuracy: 0.6918"
          ]
        },
        {
          "output_type": "stream",
          "name": "stderr",
          "text": [
            "/usr/local/lib/python3.10/dist-packages/keras/src/engine/training.py:3103: UserWarning: You are saving your model as an HDF5 file via `model.save()`. This file format is considered legacy. We recommend using instead the native Keras format, e.g. `model.save('my_model.keras')`.\n",
            "  saving_api.save_model(\n",
            "\u001b[34m\u001b[1mwandb\u001b[0m: Adding directory to artifact (/content/wandb/run-20231223_151734-rqfjwz0e/files/model-best)... Done. 0.1s\n"
          ]
        },
        {
          "output_type": "stream",
          "name": "stdout",
          "text": [
            "\n",
            "Epoch 17: saving model to models/checkpoint-17\n",
            "35/35 [==============================] - 48s 1s/step - loss: 1.1533 - accuracy: 0.6918 - val_loss: 1.0113 - val_accuracy: 0.7422 - lr: 0.0010\n",
            "Epoch 18/100\n",
            "35/35 [==============================] - ETA: 0s - loss: 1.0771 - accuracy: 0.7189\n",
            "Epoch 18: saving model to models/checkpoint-18\n",
            "35/35 [==============================] - 19s 559ms/step - loss: 1.0771 - accuracy: 0.7189 - val_loss: 1.0581 - val_accuracy: 0.7500 - lr: 0.0010\n",
            "Epoch 19/100\n",
            "35/35 [==============================] - ETA: 0s - loss: 1.0953 - accuracy: 0.7067"
          ]
        },
        {
          "output_type": "stream",
          "name": "stderr",
          "text": [
            "/usr/local/lib/python3.10/dist-packages/keras/src/engine/training.py:3103: UserWarning: You are saving your model as an HDF5 file via `model.save()`. This file format is considered legacy. We recommend using instead the native Keras format, e.g. `model.save('my_model.keras')`.\n",
            "  saving_api.save_model(\n",
            "\u001b[34m\u001b[1mwandb\u001b[0m: Adding directory to artifact (/content/wandb/run-20231223_151734-rqfjwz0e/files/model-best)... Done. 0.1s\n"
          ]
        },
        {
          "output_type": "stream",
          "name": "stdout",
          "text": [
            "\n",
            "Epoch 19: saving model to models/checkpoint-19\n",
            "35/35 [==============================] - 49s 1s/step - loss: 1.0953 - accuracy: 0.7067 - val_loss: 0.9806 - val_accuracy: 0.7656 - lr: 0.0010\n",
            "Epoch 20/100\n",
            "35/35 [==============================] - ETA: 0s - loss: 1.0620 - accuracy: 0.7256"
          ]
        },
        {
          "output_type": "stream",
          "name": "stderr",
          "text": [
            "/usr/local/lib/python3.10/dist-packages/keras/src/engine/training.py:3103: UserWarning: You are saving your model as an HDF5 file via `model.save()`. This file format is considered legacy. We recommend using instead the native Keras format, e.g. `model.save('my_model.keras')`.\n",
            "  saving_api.save_model(\n",
            "\u001b[34m\u001b[1mwandb\u001b[0m: Adding directory to artifact (/content/wandb/run-20231223_151734-rqfjwz0e/files/model-best)... Done. 0.1s\n"
          ]
        },
        {
          "output_type": "stream",
          "name": "stdout",
          "text": [
            "\n",
            "Epoch 20: saving model to models/checkpoint-20\n",
            "35/35 [==============================] - 40s 1s/step - loss: 1.0620 - accuracy: 0.7256 - val_loss: 0.9421 - val_accuracy: 0.7598 - lr: 0.0010\n",
            "Epoch 21/100\n",
            "35/35 [==============================] - ETA: 0s - loss: 1.0145 - accuracy: 0.7392\n",
            "Epoch 21: saving model to models/checkpoint-21\n",
            "35/35 [==============================] - 16s 470ms/step - loss: 1.0145 - accuracy: 0.7392 - val_loss: 1.0154 - val_accuracy: 0.7598 - lr: 0.0010\n",
            "Epoch 22/100\n",
            "35/35 [==============================] - ETA: 0s - loss: 0.9891 - accuracy: 0.7491\n",
            "Epoch 22: saving model to models/checkpoint-22\n",
            "35/35 [==============================] - 25s 743ms/step - loss: 0.9891 - accuracy: 0.7491 - val_loss: 0.9460 - val_accuracy: 0.7832 - lr: 0.0010\n",
            "Epoch 23/100\n",
            "35/35 [==============================] - ETA: 0s - loss: 0.9713 - accuracy: 0.7604\n",
            "Epoch 23: saving model to models/checkpoint-23\n",
            "35/35 [==============================] - 26s 761ms/step - loss: 0.9713 - accuracy: 0.7604 - val_loss: 0.9674 - val_accuracy: 0.7695 - lr: 0.0010\n",
            "Epoch 24/100\n",
            "35/35 [==============================] - ETA: 0s - loss: 0.9603 - accuracy: 0.7523"
          ]
        },
        {
          "output_type": "stream",
          "name": "stderr",
          "text": [
            "/usr/local/lib/python3.10/dist-packages/keras/src/engine/training.py:3103: UserWarning: You are saving your model as an HDF5 file via `model.save()`. This file format is considered legacy. We recommend using instead the native Keras format, e.g. `model.save('my_model.keras')`.\n",
            "  saving_api.save_model(\n",
            "\u001b[34m\u001b[1mwandb\u001b[0m: Adding directory to artifact (/content/wandb/run-20231223_151734-rqfjwz0e/files/model-best)... Done. 0.1s\n"
          ]
        },
        {
          "output_type": "stream",
          "name": "stdout",
          "text": [
            "\n",
            "Epoch 24: saving model to models/checkpoint-24\n",
            "35/35 [==============================] - 51s 1s/step - loss: 0.9603 - accuracy: 0.7523 - val_loss: 0.9234 - val_accuracy: 0.7930 - lr: 0.0010\n",
            "Epoch 25/100\n",
            "35/35 [==============================] - ETA: 0s - loss: 0.9132 - accuracy: 0.7717\n",
            "Epoch 25: saving model to models/checkpoint-25\n",
            "35/35 [==============================] - 16s 474ms/step - loss: 0.9132 - accuracy: 0.7717 - val_loss: 0.9291 - val_accuracy: 0.7949 - lr: 0.0010\n",
            "Epoch 26/100\n",
            "35/35 [==============================] - ETA: 0s - loss: 0.9112 - accuracy: 0.7847"
          ]
        },
        {
          "output_type": "stream",
          "name": "stderr",
          "text": [
            "/usr/local/lib/python3.10/dist-packages/keras/src/engine/training.py:3103: UserWarning: You are saving your model as an HDF5 file via `model.save()`. This file format is considered legacy. We recommend using instead the native Keras format, e.g. `model.save('my_model.keras')`.\n",
            "  saving_api.save_model(\n",
            "\u001b[34m\u001b[1mwandb\u001b[0m: Adding directory to artifact (/content/wandb/run-20231223_151734-rqfjwz0e/files/model-best)... Done. 0.1s\n"
          ]
        },
        {
          "output_type": "stream",
          "name": "stdout",
          "text": [
            "\n",
            "Epoch 26: saving model to models/checkpoint-26\n",
            "35/35 [==============================] - 51s 1s/step - loss: 0.9112 - accuracy: 0.7847 - val_loss: 0.8912 - val_accuracy: 0.7969 - lr: 0.0010\n",
            "Epoch 27/100\n",
            "35/35 [==============================] - ETA: 0s - loss: 0.8680 - accuracy: 0.7811\n",
            "Epoch 27: saving model to models/checkpoint-27\n",
            "35/35 [==============================] - 17s 495ms/step - loss: 0.8680 - accuracy: 0.7811 - val_loss: 0.9187 - val_accuracy: 0.8145 - lr: 0.0010\n",
            "Epoch 28/100\n",
            "35/35 [==============================] - ETA: 0s - loss: 0.8400 - accuracy: 0.7960\n",
            "Epoch 28: saving model to models/checkpoint-28\n",
            "35/35 [==============================] - 27s 777ms/step - loss: 0.8400 - accuracy: 0.7960 - val_loss: 0.9456 - val_accuracy: 0.7969 - lr: 0.0010\n",
            "Epoch 29/100\n",
            "35/35 [==============================] - ETA: 0s - loss: 0.8489 - accuracy: 0.7951\n",
            "Epoch 29: saving model to models/checkpoint-29\n",
            "35/35 [==============================] - 23s 677ms/step - loss: 0.8489 - accuracy: 0.7951 - val_loss: 0.9768 - val_accuracy: 0.7695 - lr: 0.0010\n",
            "Epoch 30/100\n",
            "35/35 [==============================] - ETA: 0s - loss: 0.8857 - accuracy: 0.7838\n",
            "Epoch 30: saving model to models/checkpoint-30\n",
            "35/35 [==============================] - 28s 807ms/step - loss: 0.8857 - accuracy: 0.7838 - val_loss: 0.9007 - val_accuracy: 0.7969 - lr: 0.0010\n",
            "Epoch 31/100\n",
            "35/35 [==============================] - ETA: 0s - loss: 0.8578 - accuracy: 0.7978\n",
            "Epoch 31: saving model to models/checkpoint-31\n",
            "35/35 [==============================] - 24s 704ms/step - loss: 0.8578 - accuracy: 0.7978 - val_loss: 1.0274 - val_accuracy: 0.8008 - lr: 0.0010\n",
            "Epoch 32/100\n",
            "35/35 [==============================] - ETA: 0s - loss: 0.7285 - accuracy: 0.8326"
          ]
        },
        {
          "output_type": "stream",
          "name": "stderr",
          "text": [
            "/usr/local/lib/python3.10/dist-packages/keras/src/engine/training.py:3103: UserWarning: You are saving your model as an HDF5 file via `model.save()`. This file format is considered legacy. We recommend using instead the native Keras format, e.g. `model.save('my_model.keras')`.\n",
            "  saving_api.save_model(\n",
            "\u001b[34m\u001b[1mwandb\u001b[0m: Adding directory to artifact (/content/wandb/run-20231223_151734-rqfjwz0e/files/model-best)... Done. 0.1s\n"
          ]
        },
        {
          "output_type": "stream",
          "name": "stdout",
          "text": [
            "\n",
            "Epoch 32: saving model to models/checkpoint-32\n",
            "35/35 [==============================] - 53s 2s/step - loss: 0.7285 - accuracy: 0.8326 - val_loss: 0.8490 - val_accuracy: 0.8320 - lr: 1.0000e-04\n",
            "Epoch 33/100\n",
            "35/35 [==============================] - ETA: 0s - loss: 0.6209 - accuracy: 0.8732\n",
            "Epoch 33: saving model to models/checkpoint-33\n",
            "35/35 [==============================] - 16s 463ms/step - loss: 0.6209 - accuracy: 0.8732 - val_loss: 0.8625 - val_accuracy: 0.8438 - lr: 1.0000e-04\n",
            "Epoch 34/100\n",
            "35/35 [==============================] - ETA: 0s - loss: 0.6107 - accuracy: 0.8696\n",
            "Epoch 34: saving model to models/checkpoint-34\n",
            "35/35 [==============================] - 24s 689ms/step - loss: 0.6107 - accuracy: 0.8696 - val_loss: 0.8622 - val_accuracy: 0.8379 - lr: 1.0000e-04\n",
            "Epoch 35/100\n",
            "35/35 [==============================] - ETA: 0s - loss: 0.6381 - accuracy: 0.8664"
          ]
        },
        {
          "output_type": "stream",
          "name": "stderr",
          "text": [
            "/usr/local/lib/python3.10/dist-packages/keras/src/engine/training.py:3103: UserWarning: You are saving your model as an HDF5 file via `model.save()`. This file format is considered legacy. We recommend using instead the native Keras format, e.g. `model.save('my_model.keras')`.\n",
            "  saving_api.save_model(\n",
            "\u001b[34m\u001b[1mwandb\u001b[0m: Adding directory to artifact (/content/wandb/run-20231223_151734-rqfjwz0e/files/model-best)... Done. 0.1s\n"
          ]
        },
        {
          "output_type": "stream",
          "name": "stdout",
          "text": [
            "\n",
            "Epoch 35: saving model to models/checkpoint-35\n",
            "35/35 [==============================] - 52s 2s/step - loss: 0.6381 - accuracy: 0.8664 - val_loss: 0.8329 - val_accuracy: 0.8457 - lr: 1.0000e-04\n",
            "Epoch 36/100\n",
            "35/35 [==============================] - ETA: 0s - loss: 0.6350 - accuracy: 0.8574\n",
            "Epoch 36: saving model to models/checkpoint-36\n",
            "35/35 [==============================] - 16s 460ms/step - loss: 0.6350 - accuracy: 0.8574 - val_loss: 0.8659 - val_accuracy: 0.8398 - lr: 1.0000e-04\n",
            "Epoch 37/100\n",
            "35/35 [==============================] - ETA: 0s - loss: 0.6059 - accuracy: 0.8768\n",
            "Epoch 37: saving model to models/checkpoint-37\n",
            "35/35 [==============================] - 25s 730ms/step - loss: 0.6059 - accuracy: 0.8768 - val_loss: 0.8360 - val_accuracy: 0.8477 - lr: 1.0000e-04\n",
            "Epoch 38/100\n",
            "35/35 [==============================] - ETA: 0s - loss: 0.5836 - accuracy: 0.8831\n",
            "Epoch 38: saving model to models/checkpoint-38\n",
            "35/35 [==============================] - 26s 775ms/step - loss: 0.5836 - accuracy: 0.8831 - val_loss: 0.8840 - val_accuracy: 0.8301 - lr: 1.0000e-04\n",
            "Epoch 39/100\n",
            "35/35 [==============================] - ETA: 0s - loss: 0.6207 - accuracy: 0.8655\n",
            "Epoch 39: saving model to models/checkpoint-39\n",
            "35/35 [==============================] - 25s 718ms/step - loss: 0.6207 - accuracy: 0.8655 - val_loss: 0.8587 - val_accuracy: 0.8438 - lr: 1.0000e-04\n",
            "Epoch 40/100\n",
            "35/35 [==============================] - ETA: 0s - loss: 0.6079 - accuracy: 0.8718\n",
            "Epoch 40: saving model to models/checkpoint-40\n",
            "35/35 [==============================] - 24s 701ms/step - loss: 0.6079 - accuracy: 0.8718 - val_loss: 0.8677 - val_accuracy: 0.8281 - lr: 1.0000e-04\n",
            "Epoch 41/100\n",
            "35/35 [==============================] - ETA: 0s - loss: 0.5887 - accuracy: 0.8705"
          ]
        },
        {
          "output_type": "stream",
          "name": "stderr",
          "text": [
            "/usr/local/lib/python3.10/dist-packages/keras/src/engine/training.py:3103: UserWarning: You are saving your model as an HDF5 file via `model.save()`. This file format is considered legacy. We recommend using instead the native Keras format, e.g. `model.save('my_model.keras')`.\n",
            "  saving_api.save_model(\n",
            "\u001b[34m\u001b[1mwandb\u001b[0m: Adding directory to artifact (/content/wandb/run-20231223_151734-rqfjwz0e/files/model-best)... Done. 0.1s\n"
          ]
        },
        {
          "output_type": "stream",
          "name": "stdout",
          "text": [
            "\n",
            "Epoch 41: saving model to models/checkpoint-41\n",
            "35/35 [==============================] - 50s 1s/step - loss: 0.5887 - accuracy: 0.8705 - val_loss: 0.8235 - val_accuracy: 0.8418 - lr: 1.0000e-05\n",
            "Epoch 42/100\n",
            "35/35 [==============================] - ETA: 0s - loss: 0.5945 - accuracy: 0.8800\n",
            "Epoch 42: saving model to models/checkpoint-42\n",
            "35/35 [==============================] - 16s 479ms/step - loss: 0.5945 - accuracy: 0.8800 - val_loss: 0.8670 - val_accuracy: 0.8320 - lr: 1.0000e-05\n",
            "Epoch 43/100\n",
            "35/35 [==============================] - ETA: 0s - loss: 0.5844 - accuracy: 0.8804"
          ]
        },
        {
          "output_type": "stream",
          "name": "stderr",
          "text": [
            "/usr/local/lib/python3.10/dist-packages/keras/src/engine/training.py:3103: UserWarning: You are saving your model as an HDF5 file via `model.save()`. This file format is considered legacy. We recommend using instead the native Keras format, e.g. `model.save('my_model.keras')`.\n",
            "  saving_api.save_model(\n",
            "\u001b[34m\u001b[1mwandb\u001b[0m: Adding directory to artifact (/content/wandb/run-20231223_151734-rqfjwz0e/files/model-best)... Done. 0.1s\n"
          ]
        },
        {
          "output_type": "stream",
          "name": "stdout",
          "text": [
            "\n",
            "Epoch 43: saving model to models/checkpoint-43\n",
            "35/35 [==============================] - 49s 1s/step - loss: 0.5844 - accuracy: 0.8804 - val_loss: 0.8155 - val_accuracy: 0.8438 - lr: 1.0000e-05\n",
            "Epoch 44/100\n",
            "35/35 [==============================] - ETA: 0s - loss: 0.5876 - accuracy: 0.8831\n",
            "Epoch 44: saving model to models/checkpoint-44\n",
            "35/35 [==============================] - 16s 458ms/step - loss: 0.5876 - accuracy: 0.8831 - val_loss: 0.8375 - val_accuracy: 0.8379 - lr: 1.0000e-05\n",
            "Epoch 45/100\n",
            "35/35 [==============================] - ETA: 0s - loss: 0.5787 - accuracy: 0.8822\n",
            "Epoch 45: saving model to models/checkpoint-45\n",
            "35/35 [==============================] - 27s 788ms/step - loss: 0.5787 - accuracy: 0.8822 - val_loss: 0.8232 - val_accuracy: 0.8398 - lr: 1.0000e-05\n",
            "Epoch 46/100\n",
            "35/35 [==============================] - ETA: 0s - loss: 0.5712 - accuracy: 0.8827\n",
            "Epoch 46: saving model to models/checkpoint-46\n",
            "35/35 [==============================] - 26s 772ms/step - loss: 0.5712 - accuracy: 0.8827 - val_loss: 0.8644 - val_accuracy: 0.8418 - lr: 1.0000e-05\n",
            "Epoch 47/100\n",
            "35/35 [==============================] - ETA: 0s - loss: 0.5973 - accuracy: 0.8718\n",
            "Epoch 47: saving model to models/checkpoint-47\n",
            "35/35 [==============================] - 26s 749ms/step - loss: 0.5973 - accuracy: 0.8718 - val_loss: 0.8726 - val_accuracy: 0.8379 - lr: 1.0000e-05\n",
            "Epoch 48/100\n",
            "35/35 [==============================] - ETA: 0s - loss: 0.5780 - accuracy: 0.8863\n",
            "Epoch 48: saving model to models/checkpoint-48\n",
            "35/35 [==============================] - 23s 683ms/step - loss: 0.5780 - accuracy: 0.8863 - val_loss: 0.8517 - val_accuracy: 0.8438 - lr: 1.0000e-05\n",
            "Epoch 49/100\n",
            "35/35 [==============================] - ETA: 0s - loss: 0.5863 - accuracy: 0.8759\n",
            "Epoch 49: saving model to models/checkpoint-49\n",
            "35/35 [==============================] - 26s 751ms/step - loss: 0.5863 - accuracy: 0.8759 - val_loss: 0.8253 - val_accuracy: 0.8457 - lr: 1.0000e-06\n",
            "Epoch 50/100\n",
            "35/35 [==============================] - ETA: 0s - loss: 0.5916 - accuracy: 0.8782\n",
            "Epoch 50: saving model to models/checkpoint-50\n",
            "35/35 [==============================] - 23s 677ms/step - loss: 0.5916 - accuracy: 0.8782 - val_loss: 0.8609 - val_accuracy: 0.8418 - lr: 1.0000e-06\n",
            "Epoch 51/100\n",
            "35/35 [==============================] - ETA: 0s - loss: 0.5835 - accuracy: 0.8791\n",
            "Epoch 51: saving model to models/checkpoint-51\n",
            "35/35 [==============================] - 26s 758ms/step - loss: 0.5835 - accuracy: 0.8791 - val_loss: 0.8219 - val_accuracy: 0.8516 - lr: 1.0000e-06\n",
            "Epoch 52/100\n",
            "35/35 [==============================] - ETA: 0s - loss: 0.5661 - accuracy: 0.8863\n",
            "Epoch 52: saving model to models/checkpoint-52\n",
            "35/35 [==============================] - 25s 744ms/step - loss: 0.5661 - accuracy: 0.8863 - val_loss: 0.8417 - val_accuracy: 0.8398 - lr: 1.0000e-06\n",
            "Epoch 53/100\n",
            "35/35 [==============================] - ETA: 0s - loss: 0.5838 - accuracy: 0.8836\n",
            "Epoch 53: saving model to models/checkpoint-53\n",
            "35/35 [==============================] - 23s 672ms/step - loss: 0.5838 - accuracy: 0.8836 - val_loss: 0.8764 - val_accuracy: 0.8379 - lr: 1.0000e-06\n"
          ]
        },
        {
          "output_type": "display_data",
          "data": {
            "text/plain": [
              "VBox(children=(Label(value='319.215 MB of 319.215 MB uploaded (9.396 MB deduped)\\r'), FloatProgress(value=1.0,…"
            ],
            "application/vnd.jupyter.widget-view+json": {
              "version_major": 2,
              "version_minor": 0,
              "model_id": "15fddb8d01cd41b993688a7bbd4eb6be"
            }
          },
          "metadata": {}
        },
        {
          "output_type": "display_data",
          "data": {
            "text/plain": [
              "<IPython.core.display.HTML object>"
            ],
            "text/html": [
              "W&B sync reduced upload amount by 2.9%             "
            ]
          },
          "metadata": {}
        },
        {
          "output_type": "display_data",
          "data": {
            "text/plain": [
              "<IPython.core.display.HTML object>"
            ],
            "text/html": [
              "<style>\n",
              "    table.wandb td:nth-child(1) { padding: 0 10px; text-align: left ; width: auto;} td:nth-child(2) {text-align: left ; width: 100%}\n",
              "    .wandb-row { display: flex; flex-direction: row; flex-wrap: wrap; justify-content: flex-start; width: 100% }\n",
              "    .wandb-col { display: flex; flex-direction: column; flex-basis: 100%; flex: 1; padding: 10px; }\n",
              "    </style>\n",
              "<div class=\"wandb-row\"><div class=\"wandb-col\"><h3>Run history:</h3><br/><table class=\"wandb\"><tr><td>accuracy</td><td>▁▂▂▄▄▄▅▅▅▆▆▆▆▇▆▇▇▇▇▇▇▇▇▇████████████████</td></tr><tr><td>epoch</td><td>▁▁▁▂▂▂▂▂▂▃▃▃▃▃▃▄▄▄▄▄▅▅▅▅▅▅▆▆▆▆▆▇▇▇▇▇▇███</td></tr><tr><td>loss</td><td>█▆▅▄▃▃▃▂▂▂▂▂▂▂▂▂▂▂▂▂▁▁▁▁▁▁▁▁▁▁▁▁▁▁▁▁▁▁▁▁</td></tr><tr><td>val_accuracy</td><td>▁▂▄▅▅▆▆▆▆▆▇▆▇▇▇▇▇▇▇▇█▇▇▇████████████████</td></tr><tr><td>val_loss</td><td>█▇▅▃▃▂▂▂▂▂▂▂▁▂▁▁▁▁▁▁▁▁▁▂▁▁▁▁▁▁▁▁▁▁▁▁▁▁▁▁</td></tr></table><br/></div><div class=\"wandb-col\"><h3>Run summary:</h3><br/><table class=\"wandb\"><tr><td>accuracy</td><td>0.88357</td></tr><tr><td>best_epoch</td><td>42</td></tr><tr><td>best_val_loss</td><td>0.81551</td></tr><tr><td>epoch</td><td>52</td></tr><tr><td>loss</td><td>0.5838</td></tr><tr><td>val_accuracy</td><td>0.83789</td></tr><tr><td>val_loss</td><td>0.87636</td></tr></table><br/></div></div>"
            ]
          },
          "metadata": {}
        },
        {
          "output_type": "display_data",
          "data": {
            "text/plain": [
              "<IPython.core.display.HTML object>"
            ],
            "text/html": [
              " View run <strong style=\"color:#cdcd00\">zany-oath-14</strong> at: <a href='https://wandb.ai/coztomate/catbreed_classifier_19/runs/rqfjwz0e' target=\"_blank\">https://wandb.ai/coztomate/catbreed_classifier_19/runs/rqfjwz0e</a><br/>Synced 5 W&B file(s), 1 media file(s), 105 artifact file(s) and 1 other file(s)"
            ]
          },
          "metadata": {}
        },
        {
          "output_type": "display_data",
          "data": {
            "text/plain": [
              "<IPython.core.display.HTML object>"
            ],
            "text/html": [
              "Find logs at: <code>./wandb/run-20231223_151734-rqfjwz0e/logs</code>"
            ]
          },
          "metadata": {}
        }
      ]
    },
    {
      "cell_type": "code",
      "source": [
        "# For training accuracy\n",
        "best_training_accuracy = max(history.history['accuracy'])\n",
        "\n",
        "# For validation accuracy\n",
        "best_validation_accuracy = max(history.history['val_accuracy'])\n",
        "\n",
        "print(f\"Best training accuracy: {best_training_accuracy}\")\n",
        "print(f\"Best validation accuracy: {best_validation_accuracy}\")"
      ],
      "metadata": {
        "colab": {
          "base_uri": "https://localhost:8080/"
        },
        "id": "7CkbyhFuxmiu",
        "outputId": "7e991bab-1543-4aeb-eb56-ad655a77238c"
      },
      "execution_count": 13,
      "outputs": [
        {
          "output_type": "stream",
          "name": "stdout",
          "text": [
            "Best training accuracy: 0.8862816095352173\n",
            "Best validation accuracy: 0.8515625\n"
          ]
        }
      ]
    },
    {
      "cell_type": "code",
      "source": [
        "val_accuracy_per_epoch = history.history['val_accuracy']\n",
        "# For highest accuracy\n",
        "best_epoch = np.argmax(val_accuracy_per_epoch)\n",
        "best_epoch"
      ],
      "metadata": {
        "colab": {
          "base_uri": "https://localhost:8080/"
        },
        "id": "f3DEGhLrqnit",
        "outputId": "f203c1fa-056a-4f40-87e3-9642f9ae8f80"
      },
      "execution_count": 14,
      "outputs": [
        {
          "output_type": "execute_result",
          "data": {
            "text/plain": [
              "50"
            ]
          },
          "metadata": {},
          "execution_count": 14
        }
      ]
    },
    {
      "cell_type": "code",
      "source": [
        "from sklearn.metrics import classification_report, confusion_matrix\n",
        "import matplotlib.pyplot as plt\n",
        "import seaborn as sns\n",
        "import numpy as np\n",
        "from tensorflow.keras.models import load_model\n",
        "\n",
        "\n",
        "\n",
        "# Load the best weights into the model\n",
        "model.load_weights(\"/content/wandb/latest-run/files/model-best.h5\")\n",
        "\n",
        "# Load and preprocess all validation data\n",
        "X_val_preprocessed = np.array([load_and_preprocess_image(path) for path in X_val])\n",
        "y_val_array = np.array(y_val)  # Assuming y_val is already a list or similar array-like structure\n",
        "\n",
        "# Evaluate the model\n",
        "val_loss, val_accuracy = model.evaluate(X_val_preprocessed, y_val_array)\n",
        "\n",
        "# Get the model's predictions\n",
        "predicted_probabilities = model.predict(X_val_preprocessed)\n",
        "predicted_labels = np.argmax(predicted_probabilities, axis=1)\n",
        "\n",
        "\n",
        "\n"
      ],
      "metadata": {
        "id": "LHdUSSMZxm_X"
      },
      "execution_count": null,
      "outputs": []
    },
    {
      "cell_type": "code",
      "source": [
        "from sklearn.metrics import classification_report\n",
        "\n",
        "classes = le.classes_\n",
        "\n",
        "# Assuming y_val is your true labels and classes are the class names\n",
        "print(classification_report(y_val, predicted_labels, target_names=classes))\n"
      ],
      "metadata": {
        "colab": {
          "base_uri": "https://localhost:8080/"
        },
        "id": "i8dOt0qEeHn5",
        "outputId": "13178384-1d92-4ed3-d016-0f2a1af1d2b9"
      },
      "execution_count": 16,
      "outputs": [
        {
          "output_type": "stream",
          "name": "stdout",
          "text": [
            "                      precision    recall  f1-score   support\n",
            "\n",
            "          Abyssinian       1.00      1.00      1.00        30\n",
            "  American Shorthair       0.77      0.57      0.65        30\n",
            "              Bengal       1.00      0.93      0.97        30\n",
            "   British Shorthair       0.62      0.67      0.65        30\n",
            "         Cornish Rex       0.87      0.87      0.87        30\n",
            "           Devon Rex       0.89      0.83      0.86        30\n",
            "    Exotic Shorthair       0.77      0.77      0.77        30\n",
            "          Maine Coon       0.82      0.90      0.86        30\n",
            "    Norwegian Forest       0.79      0.73      0.76        30\n",
            "  Oriental Shorthair       0.90      0.90      0.90        30\n",
            "             Persian       0.81      0.87      0.84        30\n",
            "             Ragdoll       0.81      0.73      0.77        30\n",
            "        Russian Blue       0.81      0.87      0.84        30\n",
            "       Sacred Birman       0.72      0.93      0.81        30\n",
            "       Scottish Fold       0.88      0.77      0.82        30\n",
            "Selkirk Rex longhair       0.94      1.00      0.97        30\n",
            "             Siamese       0.97      0.93      0.95        30\n",
            "        Siberian cat       0.73      0.73      0.73        30\n",
            "              Sphynx       0.91      0.97      0.94        30\n",
            "\n",
            "            accuracy                           0.84       570\n",
            "           macro avg       0.84      0.84      0.84       570\n",
            "        weighted avg       0.84      0.84      0.84       570\n",
            "\n"
          ]
        }
      ]
    },
    {
      "cell_type": "code",
      "source": [
        "import matplotlib.pyplot as plt\n",
        "import seaborn as sns\n",
        "from sklearn.metrics import classification_report, confusion_matrix\n",
        "\n",
        "# Plotting training & validation accuracy\n",
        "plt.figure(figsize=(12, 6))\n",
        "plt.subplot(1, 2, 1)\n",
        "plt.plot(history.history['accuracy'])\n",
        "plt.plot(history.history['val_accuracy'])\n",
        "plt.title('Model accuracy')\n",
        "plt.ylabel('Accuracy')\n",
        "plt.xlabel('Epoch')\n",
        "plt.legend(['Train', 'Validation'], loc='upper left')\n",
        "\n",
        "# Plotting training & validation loss\n",
        "plt.subplot(1, 2, 2)\n",
        "plt.plot(history.history['loss'])\n",
        "plt.plot(history.history['val_loss'])\n",
        "plt.title('Model loss')\n",
        "plt.ylabel('Loss')\n",
        "plt.xlabel('Epoch')\n",
        "plt.legend(['Train', 'Validation'], loc='upper left')\n",
        "plt.show()\n",
        "\n",
        "\n"
      ],
      "metadata": {
        "colab": {
          "base_uri": "https://localhost:8080/",
          "height": 564
        },
        "id": "9TvOdMK_dxj4",
        "outputId": "e30d1cbc-84ff-4379-8c0c-b99603ed4d62"
      },
      "execution_count": 17,
      "outputs": [
        {
          "output_type": "display_data",
          "data": {
            "text/plain": [
              "<Figure size 1200x600 with 2 Axes>"
            ],
            "image/png": "[encoded data removed]"
          },
          "metadata": {}
        }
      ]
    },
    {
      "cell_type": "code",
      "source": [
        "# Confusion Matrix\n",
        "conf_mat = confusion_matrix(y_val, predicted_labels)\n",
        "sns.heatmap(conf_mat, annot=True, fmt='d', cmap='Blues', xticklabels=classes, yticklabels=classes)\n",
        "plt.title('Confusion Matrix')\n",
        "plt.ylabel('True Label')\n",
        "plt.xlabel('Predicted Label')\n",
        "plt.show()"
      ],
      "metadata": {
        "colab": {
          "base_uri": "https://localhost:8080/",
          "height": 596
        },
        "id": "cT2AYWJmdykc",
        "outputId": "35941747-39fe-4146-e1d9-41b7c96c21d0"
      },
      "execution_count": 18,
      "outputs": [
        {
          "output_type": "display_data",
          "data": {
            "text/plain": [
              "<Figure size 640x480 with 2 Axes>"
            ],
            "image/png": "[encoded data removed]"
          },
          "metadata": {}
        }
      ]
    }
  ],
  "metadata": {
    "kernelspec": {
      "display_name": "Python 3",
      "name": "python3"
    },
    "language_info": {
      "codemirror_mode": {
        "name": "ipython",
        "version": 3
      },
      "file_extension": ".py",
      "mimetype": "text/x-python",
      "name": "python",
      "nbconvert_exporter": "python",
      "pygments_lexer": "ipython3",
      "version": "3.11.5"
    },
    "colab": {
      "provenance": [],
      "gpuType": "T4"
    },
    "accelerator": "GPU",
    "widgets": {
      "application/vnd.jupyter.widget-state+json": {
        "15fddb8d01cd41b993688a7bbd4eb6be": {
          "model_module": "@jupyter-widgets/controls",
          "model_name": "VBoxModel",
          "model_module_version": "1.5.0",
          "state": {
            "_dom_classes": [],
            "_model_module": "@jupyter-widgets/controls",
            "_model_module_version": "1.5.0",
            "_model_name": "VBoxModel",
            "_view_count": null,
            "_view_module": "@jupyter-widgets/controls",
            "_view_module_version": "1.5.0",
            "_view_name": "VBoxView",
            "box_style": "",
            "children": [
              "IPY_MODEL_a16c6e74747349509af94d0bcaacb644",
              "IPY_MODEL_41319deb0ce94957a499d933ff9a36e0"
            ],
            "layout": "IPY_MODEL_bbd18d2d182d4c678a60dd04c15842f6"
          }
        },
        "a16c6e74747349509af94d0bcaacb644": {
          "model_module": "@jupyter-widgets/controls",
          "model_name": "LabelModel",
          "model_module_version": "1.5.0",
          "state": {
            "_dom_classes": [],
            "_model_module": "@jupyter-widgets/controls",
            "_model_module_version": "1.5.0",
            "_model_name": "LabelModel",
            "_view_count": null,
            "_view_module": "@jupyter-widgets/controls",
            "_view_module_version": "1.5.0",
            "_view_name": "LabelView",
            "description": "",
            "description_tooltip": null,
            "layout": "IPY_MODEL_b6bf64cffcdb4dc0aa156422e3326c7e",
            "placeholder": "​",
            "style": "IPY_MODEL_0797fede9c9043d89d013dd8023098d0",
            "value": "319.279 MB of 319.279 MB uploaded (9.396 MB deduped)\r"
          }
        },
        "41319deb0ce94957a499d933ff9a36e0": {
          "model_module": "@jupyter-widgets/controls",
          "model_name": "FloatProgressModel",
          "model_module_version": "1.5.0",
          "state": {
            "_dom_classes": [],
            "_model_module": "@jupyter-widgets/controls",
            "_model_module_version": "1.5.0",
            "_model_name": "FloatProgressModel",
            "_view_count": null,
            "_view_module": "@jupyter-widgets/controls",
            "_view_module_version": "1.5.0",
            "_view_name": "ProgressView",
            "bar_style": "",
            "description": "",
            "description_tooltip": null,
            "layout": "IPY_MODEL_57b7e36e9f924bf48dd7ddb55bb5b617",
            "max": 1,
            "min": 0,
            "orientation": "horizontal",
            "style": "IPY_MODEL_f3ee088cb49146acba83f08d4c523d62",
            "value": 1
          }
        },
        "bbd18d2d182d4c678a60dd04c15842f6": {
          "model_module": "@jupyter-widgets/base",
          "model_name": "LayoutModel",
          "model_module_version": "1.2.0",
          "state": {
            "_model_module": "@jupyter-widgets/base",
            "_model_module_version": "1.2.0",
            "_model_name": "LayoutModel",
            "_view_count": null,
            "_view_module": "@jupyter-widgets/base",
            "_view_module_version": "1.2.0",
            "_view_name": "LayoutView",
            "align_content": null,
            "align_items": null,
            "align_self": null,
            "border": null,
            "bottom": null,
            "display": null,
            "flex": null,
            "flex_flow": null,
            "grid_area": null,
            "grid_auto_columns": null,
            "grid_auto_flow": null,
            "grid_auto_rows": null,
            "grid_column": null,
            "grid_gap": null,
            "grid_row": null,
            "grid_template_areas": null,
            "grid_template_columns": null,
            "grid_template_rows": null,
            "height": null,
            "justify_content": null,
            "justify_items": null,
            "left": null,
            "margin": null,
            "max_height": null,
            "max_width": null,
            "min_height": null,
            "min_width": null,
            "object_fit": null,
            "object_position": null,
            "order": null,
            "overflow": null,
            "overflow_x": null,
            "overflow_y": null,
            "padding": null,
            "right": null,
            "top": null,
            "visibility": null,
            "width": null
          }
        },
        "b6bf64cffcdb4dc0aa156422e3326c7e": {
          "model_module": "@jupyter-widgets/base",
          "model_name": "LayoutModel",
          "model_module_version": "1.2.0",
          "state": {
            "_model_module": "@jupyter-widgets/base",
            "_model_module_version": "1.2.0",
            "_model_name": "LayoutModel",
            "_view_count": null,
            "_view_module": "@jupyter-widgets/base",
            "_view_module_version": "1.2.0",
            "_view_name": "LayoutView",
            "align_content": null,
            "align_items": null,
            "align_self": null,
            "border": null,
            "bottom": null,
            "display": null,
            "flex": null,
            "flex_flow": null,
            "grid_area": null,
            "grid_auto_columns": null,
            "grid_auto_flow": null,
            "grid_auto_rows": null,
            "grid_column": null,
            "grid_gap": null,
            "grid_row": null,
            "grid_template_areas": null,
            "grid_template_columns": null,
            "grid_template_rows": null,
            "height": null,
            "justify_content": null,
            "justify_items": null,
            "left": null,
            "margin": null,
            "max_height": null,
            "max_width": null,
            "min_height": null,
            "min_width": null,
            "object_fit": null,
            "object_position": null,
            "order": null,
            "overflow": null,
            "overflow_x": null,
            "overflow_y": null,
            "padding": null,
            "right": null,
            "top": null,
            "visibility": null,
            "width": null
          }
        },
        "0797fede9c9043d89d013dd8023098d0": {
          "model_module": "@jupyter-widgets/controls",
          "model_name": "DescriptionStyleModel",
          "model_module_version": "1.5.0",
          "state": {
            "_model_module": "@jupyter-widgets/controls",
            "_model_module_version": "1.5.0",
            "_model_name": "DescriptionStyleModel",
            "_view_count": null,
            "_view_module": "@jupyter-widgets/base",
            "_view_module_version": "1.2.0",
            "_view_name": "StyleView",
            "description_width": ""
          }
        },
        "57b7e36e9f924bf48dd7ddb55bb5b617": {
          "model_module": "@jupyter-widgets/base",
          "model_name": "LayoutModel",
          "model_module_version": "1.2.0",
          "state": {
            "_model_module": "@jupyter-widgets/base",
            "_model_module_version": "1.2.0",
            "_model_name": "LayoutModel",
            "_view_count": null,
            "_view_module": "@jupyter-widgets/base",
            "_view_module_version": "1.2.0",
            "_view_name": "LayoutView",
            "align_content": null,
            "align_items": null,
            "align_self": null,
            "border": null,
            "bottom": null,
            "display": null,
            "flex": null,
            "flex_flow": null,
            "grid_area": null,
            "grid_auto_columns": null,
            "grid_auto_flow": null,
            "grid_auto_rows": null,
            "grid_column": null,
            "grid_gap": null,
            "grid_row": null,
            "grid_template_areas": null,
            "grid_template_columns": null,
            "grid_template_rows": null,
            "height": null,
            "justify_content": null,
            "justify_items": null,
            "left": null,
            "margin": null,
            "max_height": null,
            "max_width": null,
            "min_height": null,
            "min_width": null,
            "object_fit": null,
            "object_position": null,
            "order": null,
            "overflow": null,
            "overflow_x": null,
            "overflow_y": null,
            "padding": null,
            "right": null,
            "top": null,
            "visibility": null,
            "width": null
          }
        },
        "f3ee088cb49146acba83f08d4c523d62": {
          "model_module": "@jupyter-widgets/controls",
          "model_name": "ProgressStyleModel",
          "model_module_version": "1.5.0",
          "state": {
            "_model_module": "@jupyter-widgets/controls",
            "_model_module_version": "1.5.0",
            "_model_name": "ProgressStyleModel",
            "_view_count": null,
            "_view_module": "@jupyter-widgets/base",
            "_view_module_version": "1.2.0",
            "_view_name": "StyleView",
            "bar_color": null,
            "description_width": ""
          }
        }
      }
    }
  },
  "nbformat": 4,
  "nbformat_minor": 0
}