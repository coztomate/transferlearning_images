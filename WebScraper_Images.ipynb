{
  "cells": [
    {
      "cell_type": "markdown",
      "metadata": {
        "id": "ONIqIEu7VyT4"
      },
      "source": [
        "# DuckDuckGo Image Scraper\n",
        "\n",
        "This Image Scraper library was developed by Joe Dockrill. Docs are at [joedockrill.github.io/jmd_imagescraper/](https://joedockrill.github.io/jmd_imagescraper/)\n",
        "\n",
        "The notebook was adapted to scrape for images of different cat breeds.\n",
        "\n"
      ]
    },
    {
      "cell_type": "markdown",
      "metadata": {
        "id": "tTCCj9TS0WVY"
      },
      "source": [
        "## Install\n",
        "\n"
      ]
    },
    {
      "cell_type": "code",
      "execution_count": 2,
      "metadata": {
        "id": "EYwHbopFG63A",
        "outputId": "0c379f43-d643-4465-a483-b88c9f0999be",
        "colab": {
          "base_uri": "https://localhost:8080/"
        }
      },
      "outputs": [
        {
          "output_type": "stream",
          "name": "stdout",
          "text": [
            "  Preparing metadata (setup.py) ... \u001b[?25l\u001b[?25hdone\n",
            "\u001b[2K     \u001b[90m━━━━━━━━━━━━━━━━━━━━━━━━━━━━━━━━━━━━━━━━\u001b[0m \u001b[32m1.6/1.6 MB\u001b[0m \u001b[31m6.7 MB/s\u001b[0m eta \u001b[36m0:00:00\u001b[0m\n",
            "\u001b[?25h  Building wheel for bs4 (setup.py) ... \u001b[?25l\u001b[?25hdone\n"
          ]
        }
      ],
      "source": [
        "!pip install -q jmd_imagescraper"
      ]
    },
    {
      "cell_type": "code",
      "execution_count": 3,
      "metadata": {
        "colab": {
          "base_uri": "https://localhost:8080/"
        },
        "id": "ahA_2tgWYz2-",
        "outputId": "44cbfdb6-0079-462a-f748-bdd79218da4e"
      },
      "outputs": [
        {
          "output_type": "stream",
          "name": "stdout",
          "text": [
            "Mounted at /content/drive\n"
          ]
        }
      ],
      "source": [
        "#connect to google drive\n",
        "from google.colab import drive\n",
        "drive.mount('/content/drive')"
      ]
    },
    {
      "cell_type": "code",
      "execution_count": null,
      "metadata": {
        "id": "8xPXIWXta9Hy"
      },
      "outputs": [],
      "source": [
        "from pathlib import Path\n",
        "root = Path().cwd()/\"images\"\n",
        "\n",
        "from jmd_imagescraper.core import * # dont't worry, it's designed to work with import *\n",
        "\n",
        "#list of all the cat breeds we want to search for\n",
        "breeds = ['Ragdoll', 'Maine Coon', 'Exotic Shorthair','Persian', 'Devon Rex',\n",
        "          'British Shorthair', 'Oriental Shorthair', 'Siamese', 'Cornish Rex',\n",
        "          'Abyssinian', 'American Shorthair', 'Scottish Fold', 'Sphynx', 'Norwegian Forest',\n",
        "          'Siberian', 'Sacred Birman', 'Russian Blue', 'Bengal', 'Selkirk Rex longhair']\n",
        "\n",
        "\n",
        "# Loop through the cleaned strings and perform the search\n",
        "for string in breeds:\n",
        "    # Ensure that the string is not just whitespace\n",
        "    if string.strip():\n",
        "        duckduckgo_search(root, string, f\"{string} cat\", max_results=1000)"
      ]
    },
    {
      "cell_type": "code",
      "execution_count": null,
      "metadata": {
        "id": "ZHIKOZkMx5or"
      },
      "outputs": [],
      "source": [
        "import shutil\n",
        "import os\n",
        "\n",
        "# Define your Colab folder where all subdirectories are located\n",
        "colab_folder = '/content/images'\n",
        "# Define the Drive target directory where you want to move these subdirectories\n",
        "drive_target_dir = '/content/drive/My Drive/Cat_Breeds'\n",
        "\n",
        "# Check and create the target directory in Drive if it doesn't exist\n",
        "if not os.path.exists(drive_target_dir):\n",
        "    os.makedirs(drive_target_dir)\n",
        "\n",
        "# Loop through all subdirectories in the Colab folder\n",
        "for breed_dir in os.listdir(colab_folder):\n",
        "    # Full path to the subdirectory in Colab\n",
        "    source_breed_path = os.path.join(colab_folder, breed_dir)\n",
        "    # Full path to the target subdirectory in Drive\n",
        "    destination_breed_path = os.path.join(drive_target_dir, breed_dir)\n",
        "\n",
        "    # Ensure the path is a directory before copying\n",
        "    if os.path.isdir(source_breed_path):\n",
        "        # If the target subdirectory already exists, it must be removed before copytree can be used\n",
        "        if os.path.exists(destination_breed_path):\n",
        "            shutil.rmtree(destination_breed_path)\n",
        "        # Copy the whole subdirectory to Drive\n",
        "        shutil.copytree(source_breed_path, destination_breed_path)\n",
        "\n",
        "print(\"All directories have been copied to Google Drive.\")\n"
      ]
    }
  ],
  "metadata": {
    "colab": {
      "provenance": []
    },
    "kernelspec": {
      "display_name": "Python 3",
      "name": "python3"
    }
  },
  "nbformat": 4,
  "nbformat_minor": 0
}